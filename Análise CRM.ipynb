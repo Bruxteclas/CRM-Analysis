{
 "cells": [
  {
   "cell_type": "markdown",
   "metadata": {
    "application/vnd.databricks.v1+cell": {
     "cellMetadata": {
      "byteLimit": 2048000,
      "rowLimit": 10000
     },
     "inputWidgets": {},
     "nuid": "75fbab5a-9afa-4a53-9937-64ea714bba84",
     "showTitle": false,
     "tableResultSettingsMap": {},
     "title": ""
    }
   },
   "source": [
    "\n",
    "# **Análise de Vendas e Performance Comercial com SQL no Databricks**  \n",
    "\n",
    "## **Introdução**  \n",
    "Em um cenário altamente competitivo, empresas buscam constantemente otimizar suas estratégias comerciais para aumentar a eficiência e maximizar os resultados. O uso de sistemas de **Customer Relationship Management (CRM)** tem se tornado essencial para acompanhar interações com clientes, oportunidades de vendas e métricas de desempenho da equipe comercial.  \n",
    "\n",
    "Este projeto tem como objetivo explorar e analisar um conjunto de dados de CRM, utilizando **SQL no Databricks** para extrair insights valiosos sobre o processo de vendas. Através da análise dos dados, será possível identificar padrões, avaliar o desempenho da equipe comercial e encontrar oportunidades de crescimento para o negócio.   \n",
    "\n",
    "## **Sobre o Conjunto de Dados**  \n",
    "O dataset contém informações detalhadas sobre contas de clientes, oportunidades de vendas, atividades comerciais e desempenho da equipe de vendas. Ele é composto por cinco arquivos principais:  \n",
    "\n",
    "📊 accounts.csv – Informações sobre os clientes, incluindo dados demográficos e firmográficos.\n",
    "📊 sales_pipeline.csv – Registro das oportunidades de vendas, incluindo estágio, valor e probabilidade de conversão.\n",
    "📊 products.csv – Lista de produtos e serviços oferecidos pela empresa.\n",
    "📊 agents.csv – Informações sobre os vendedores e métricas de desempenho.\n",
    "\n",
    "## **Ferramentas e Tecnologias Utilizadas**  \n",
    "🛠 **Databricks** – Plataforma baseada em Apache Spark para processamento de dados em larga escala.  \n",
    "🛠 **SQL** – Linguagem de consulta para análise e manipulação dos dados.  \n",
    "🛠 **Visualizações no Databricks** – Dashboards interativo para análise e insights.  \n",
    "\n"
   ]
  },
  {
   "cell_type": "markdown",
   "metadata": {
    "application/vnd.databricks.v1+cell": {
     "cellMetadata": {
      "byteLimit": 2048000,
      "rowLimit": 10000
     },
     "inputWidgets": {},
     "nuid": "0f0b2939-6ea1-4442-934c-32ff9871e719",
     "showTitle": false,
     "tableResultSettingsMap": {},
     "title": ""
    }
   },
   "source": [
    "## Carregar os arquivos CSV como DataFrames no Databricks"
   ]
  },
  {
   "cell_type": "code",
   "execution_count": 0,
   "metadata": {
    "application/vnd.databricks.v1+cell": {
     "cellMetadata": {
      "byteLimit": 2048000,
      "rowLimit": 10000
     },
     "inputWidgets": {},
     "nuid": "c9c58641-a283-42d1-95de-a27f1a72cb46",
     "showTitle": false,
     "tableResultSettingsMap": {},
     "title": ""
    }
   },
   "outputs": [
    {
     "output_type": "stream",
     "name": "stdout",
     "output_type": "stream",
     "text": [
      "+----------------+---------+----------------+-------+---------+---------------+-------------+\n|         account|   sector|year_established|revenue|employees|office_location|subsidiary_of|\n+----------------+---------+----------------+-------+---------+---------------+-------------+\n|Acme Corporation|technolgy|            1996|1100.04|     2822|  United States|         null|\n|      Betasoloin|  medical|            1999| 251.41|      495|  United States|         null|\n|        Betatech|  medical|            1986| 647.18|     1185|          Kenya|         null|\n|      Bioholding|  medical|            2012| 587.34|     1356|     Philipines|         null|\n|         Bioplex|  medical|            1991| 326.82|     1016|  United States|         null|\n+----------------+---------+----------------+-------+---------+---------------+-------------+\nonly showing top 5 rows\n\n+--------------+---------------+--------------+-------+----------+-----------+----------+-----------+\n|opportunity_id|    sales_agent|       product|account|deal_stage|engage_date|close_date|close_value|\n+--------------+---------------+--------------+-------+----------+-----------+----------+-----------+\n|      1C1I7A6R|    Moses Frase|GTX Plus Basic|Cancity|       Won| 2016-10-20|2017-03-01|       1054|\n|      Z063OYW0|Darcel Schlecht|        GTXPro|  Isdom|       Won| 2016-10-25|2017-03-11|       4514|\n|      EC4QE1BX|Darcel Schlecht|    MG Special|Cancity|       Won| 2016-10-25|2017-03-07|         50|\n|      MV1LWRNH|    Moses Frase|     GTX Basic|Codehow|       Won| 2016-10-25|2017-03-09|        588|\n|      PE84CX4O|      Zane Levy|     GTX Basic| Hatfan|       Won| 2016-10-25|2017-03-02|        517|\n+--------------+---------------+--------------+-------+----------+-----------+----------+-----------+\nonly showing top 5 rows\n\n"
     ]
    }
   ],
   "source": [
    "from pyspark.sql import SparkSession\n",
    "\n",
    "# Criar sessão Spark (Databricks já inicializa automaticamente)\n",
    "spark = SparkSession.builder.appName(\"CRM Analysis\").getOrCreate()\n",
    "\n",
    "# Definir caminho base atualizado\n",
    "base_path = \"dbfs:/FileStore/CRM Analytics/\"\n",
    "\n",
    "# Carregar os arquivos CSV como DataFrames\n",
    "accounts_df = spark.read.csv(base_path + \"accounts.csv\", header=True, inferSchema=True)\n",
    "data_dictionary_df = spark.read.csv(base_path + \"data_dictionary.csv\", header=True, inferSchema=True)\n",
    "products_df = spark.read.csv(base_path + \"products.csv\", header=True, inferSchema=True)\n",
    "sales_pipeline_df = spark.read.csv(base_path + \"sales_pipeline.csv\", header=True, inferSchema=True)\n",
    "sales_teams_df = spark.read.csv(base_path + \"sales_teams.csv\", header=True, inferSchema=True)\n",
    "\n",
    "# Exibir as primeiras linhas de cada DataFrame para conferir\n",
    "accounts_df.show(5)\n",
    "sales_pipeline_df.show(5)\n"
   ]
  },
  {
   "cell_type": "markdown",
   "metadata": {
    "application/vnd.databricks.v1+cell": {
     "cellMetadata": {
      "byteLimit": 2048000,
      "rowLimit": 10000
     },
     "inputWidgets": {},
     "nuid": "5ba14a24-1c52-4835-b953-d1594dc7bbe4",
     "showTitle": false,
     "tableResultSettingsMap": {},
     "title": ""
    }
   },
   "source": [
    "## Verificar o esquema das tabelas"
   ]
  },
  {
   "cell_type": "code",
   "execution_count": 0,
   "metadata": {
    "application/vnd.databricks.v1+cell": {
     "cellMetadata": {
      "byteLimit": 2048000,
      "rowLimit": 10000
     },
     "inputWidgets": {},
     "nuid": "9e4996bc-37d3-4cc8-8d51-108a327f58f9",
     "showTitle": false,
     "tableResultSettingsMap": {},
     "title": ""
    }
   },
   "outputs": [
    {
     "output_type": "stream",
     "name": "stdout",
     "output_type": "stream",
     "text": [
      "root\n |-- account: string (nullable = true)\n |-- sector: string (nullable = true)\n |-- year_established: integer (nullable = true)\n |-- revenue: double (nullable = true)\n |-- employees: integer (nullable = true)\n |-- office_location: string (nullable = true)\n |-- subsidiary_of: string (nullable = true)\n\nroot\n |-- opportunity_id: string (nullable = true)\n |-- sales_agent: string (nullable = true)\n |-- product: string (nullable = true)\n |-- account: string (nullable = true)\n |-- deal_stage: string (nullable = true)\n |-- engage_date: date (nullable = true)\n |-- close_date: date (nullable = true)\n |-- close_value: integer (nullable = true)\n\nroot\n |-- product: string (nullable = true)\n |-- series: string (nullable = true)\n |-- sales_price: integer (nullable = true)\n\nroot\n |-- opportunity_id: string (nullable = true)\n |-- sales_agent: string (nullable = true)\n |-- product: string (nullable = true)\n |-- account: string (nullable = true)\n |-- deal_stage: string (nullable = true)\n |-- engage_date: date (nullable = true)\n |-- close_date: date (nullable = true)\n |-- close_value: integer (nullable = true)\n\n"
     ]
    }
   ],
   "source": [
    "accounts_df.printSchema()\n",
    "sales_pipeline_df.printSchema()\n",
    "products_df.printSchema()\n",
    "sales_pipeline_df.printSchema()"
   ]
  },
  {
   "cell_type": "markdown",
   "metadata": {
    "application/vnd.databricks.v1+cell": {
     "cellMetadata": {
      "byteLimit": 2048000,
      "rowLimit": 10000
     },
     "inputWidgets": {},
     "nuid": "ca0fc73b-2227-48be-b092-f3c833a7e649",
     "showTitle": false,
     "tableResultSettingsMap": {},
     "title": ""
    }
   },
   "source": [
    "## Tratamento dos dados"
   ]
  },
  {
   "cell_type": "code",
   "execution_count": 0,
   "metadata": {
    "application/vnd.databricks.v1+cell": {
     "cellMetadata": {
      "byteLimit": 2048000,
      "rowLimit": 10000
     },
     "inputWidgets": {},
     "nuid": "7baf19e1-d0e0-40ee-9598-d2186ed1dbf4",
     "showTitle": false,
     "tableResultSettingsMap": {},
     "title": ""
    }
   },
   "outputs": [
    {
     "output_type": "stream",
     "name": "stdout",
     "output_type": "stream",
     "text": [
      "Valores nulos em Accounts:\n+-------+------+----------------+-------+---------+---------------+-------------+\n|account|sector|year_established|revenue|employees|office_location|subsidiary_of|\n+-------+------+----------------+-------+---------+---------------+-------------+\n|      0|     0|               0|      0|        0|              0|           70|\n+-------+------+----------------+-------+---------+---------------+-------------+\n\nValores nulos em Sales Pipeline:\n+--------------+-----------+-------+-------+----------+-----------+----------+-----------+\n|opportunity_id|sales_agent|product|account|deal_stage|engage_date|close_date|close_value|\n+--------------+-----------+-------+-------+----------+-----------+----------+-----------+\n|             0|          0|      0|   1425|         0|        500|      2089|       2089|\n+--------------+-----------+-------+-------+----------+-----------+----------+-----------+\n\nValores nulos em Products:\n+-------+------+-----------+\n|product|series|sales_price|\n+-------+------+-----------+\n|      0|     0|          0|\n+-------+------+-----------+\n\nValores nulos em Sales Teams:\n+-----------+-------+---------------+\n|sales_agent|manager|regional_office|\n+-----------+-------+---------------+\n|          0|      0|              0|\n+-----------+-------+---------------+\n\n"
     ]
    }
   ],
   "source": [
    "from pyspark.sql.functions import col, sum\n",
    "\n",
    "# Contar valores nulos por coluna em cada DataFrame\n",
    "def count_nulls(df, df_name):\n",
    "    print(f\"Valores nulos em {df_name}:\")\n",
    "    df.select([col(c).isNull().cast(\"int\").alias(c) for c in df.columns]).agg(*[sum(col(c)).alias(c) for c in df.columns]).show()\n",
    "\n",
    "count_nulls(accounts_df, \"Accounts\")\n",
    "count_nulls(sales_pipeline_df, \"Sales Pipeline\")\n",
    "count_nulls(products_df, \"Products\")\n",
    "count_nulls(sales_teams_df, \"Sales Teams\")\n",
    "\n"
   ]
  },
  {
   "cell_type": "code",
   "execution_count": 0,
   "metadata": {
    "application/vnd.databricks.v1+cell": {
     "cellMetadata": {
      "byteLimit": 2048000,
      "rowLimit": 10000
     },
     "inputWidgets": {},
     "nuid": "549505ea-8f31-429f-88ff-5d5dea00b2e4",
     "showTitle": false,
     "tableResultSettingsMap": {},
     "title": ""
    }
   },
   "outputs": [
    {
     "output_type": "stream",
     "name": "stdout",
     "output_type": "stream",
     "text": [
      "+----------------+-------------+----------------+-------+---------+---------------+----------------+\n|         account|       sector|year_established|revenue|employees|office_location|   subsidiary_of|\n+----------------+-------------+----------------+-------+---------+---------------+----------------+\n|Acme Corporation|    technolgy|            1996|1100.04|     2822|  United States|    Desconhecido|\n|      Betasoloin|      medical|            1999| 251.41|      495|  United States|    Desconhecido|\n|        Betatech|      medical|            1986| 647.18|     1185|          Kenya|    Desconhecido|\n|      Bioholding|      medical|            2012| 587.34|     1356|     Philipines|    Desconhecido|\n|         Bioplex|      medical|            1991| 326.82|     1016|  United States|    Desconhecido|\n|        Blackzim|       retail|            2009| 497.11|     1588|  United States|    Desconhecido|\n|   Bluth Company|    technolgy|            1993|1242.32|     3027|  United States|Acme Corporation|\n|      Bubba Gump|     software|            2002| 987.39|     2253|  United States|    Desconhecido|\n|         Cancity|       retail|            2001| 718.62|     2448|  United States|    Desconhecido|\n|          Cheers|entertainment|            1993| 4269.9|     6472|  United States| Massive Dynamic|\n|         Codehow|     software|            1998| 2714.9|     2641|  United States|Acme Corporation|\n|          Condax|      medical|            2017|   4.54|        9|  United States|    Desconhecido|\n|         Conecom|    technolgy|            2005|1520.66|     1806|  United States|    Desconhecido|\n|  Dalttechnology|     software|            2013|  98.79|       96|  United States|      Bubba Gump|\n|         dambase|    marketing|            1995|2173.98|     2928|  United States|           Inity|\n|         Domzoom|entertainment|            1998| 217.87|      551|  United States|    Desconhecido|\n|          Doncon|    technolgy|            2010| 587.72|     1501|  United States|    Desconhecido|\n|     Donquadtech|    technolgy|            1992|1712.68|     3194|  United States|Acme Corporation|\n|        Dontechi|     software|            1982| 4618.0|    10083|  United States|    Desconhecido|\n|         Donware|    marketing|            1999|1197.44|     2570|  United States|    Desconhecido|\n+----------------+-------------+----------------+-------+---------+---------------+----------------+\nonly showing top 20 rows\n\n+--------------+-----------------+--------------+--------------------+----------+-----------+----------+-----------+\n|opportunity_id|      sales_agent|       product|             account|deal_stage|engage_date|close_date|close_value|\n+--------------+-----------------+--------------+--------------------+----------+-----------+----------+-----------+\n|      1C1I7A6R|      Moses Frase|GTX Plus Basic|             Cancity|       Won| 2016-10-20|2017-03-01|       1054|\n|      Z063OYW0|  Darcel Schlecht|        GTXPro|               Isdom|       Won| 2016-10-25|2017-03-11|       4514|\n|      EC4QE1BX|  Darcel Schlecht|    MG Special|             Cancity|       Won| 2016-10-25|2017-03-07|         50|\n|      MV1LWRNH|      Moses Frase|     GTX Basic|             Codehow|       Won| 2016-10-25|2017-03-09|        588|\n|      PE84CX4O|        Zane Levy|     GTX Basic|              Hatfan|       Won| 2016-10-25|2017-03-02|        517|\n|      ZNBS69V1|    Anna Snelling|    MG Special|            Ron-tech|       Won| 2016-10-29|2017-03-01|         49|\n|      9ME3374G|   Vicki Laflamme|    MG Special|             J-Texon|       Won| 2016-10-30|2017-03-02|         57|\n|      7GN8Q4LL|   Markita Hansen|     GTX Basic|              Cheers|       Won| 2016-11-01|2017-03-07|        601|\n|      OLK9LKZB|  Niesha Huffines|GTX Plus Basic|            Zumgoity|       Won| 2016-11-01|2017-03-03|       1026|\n|      HAXMC4IX|   James Ascencio|   MG Advanced|        Desconhecido|  Engaging| 2016-11-03|      null|          0|\n|      NL3JZH1Z|    Anna Snelling|    MG Special|          Bioholding|       Won| 2016-11-04|2017-03-10|         53|\n|      KWVA7VR1| Gladys Colclough|        GTXPro|Genco Pura Olive ...|      Lost| 2016-11-04|2017-03-18|          0|\n|      S8DX3XOU|   James Ascencio|  GTX Plus Pro|          Sunnamplex|       Won| 2016-11-04|2017-03-10|       5169|\n|      ENB2XD8G|  Maureen Marcano|  GTX Plus Pro|              Sonron|       Won| 2016-11-04|2017-03-06|       4631|\n|      09YE9QOV|    Hayden Neloms|   MG Advanced|              Finjob|       Won| 2016-11-05|2017-03-11|       3393|\n|      3F5MZNEH|  Rosalina Dieter|    MG Special|              Sonron|      Lost| 2016-11-05|2017-03-03|          0|\n|      M6WEJXC0|  Rosalina Dieter|   MG Advanced|            Scotfind|       Won| 2016-11-05|2017-03-06|       3284|\n|      6PTR7VBR|Versie Hillebrand|    MG Special|           Treequote|       Won| 2016-11-06|2017-03-05|         61|\n|      902REDPA|  Daniell Hammack|        GTXPro|            Xx-zobam|      Lost| 2016-11-07|2017-03-09|          0|\n|      5J9CMGDV|     Elease Gluck|    MG Special|            Rantouch|       Won| 2016-11-07|2017-03-08|         46|\n+--------------+-----------------+--------------+--------------------+----------+-----------+----------+-----------+\nonly showing top 20 rows\n\n"
     ]
    }
   ],
   "source": [
    "# Preencher valores nulos em cada coluna com um valor específico\n",
    "accounts_df = accounts_df.fillna({\n",
    "    'subsidiary_of': 'Desconhecido',  # Para coluna 'subsidiary_of'\n",
    "    'sector': 'Desconhecido',         # Para coluna 'sector', caso necessário\n",
    "    'year_established': 0,            # Para ano de fundação\n",
    "    'revenue': 0,                     # Para receita\n",
    "    'employees': 0,                   # Para número de empregados\n",
    "    'office_location': 'Desconhecido' # Para local da sede\n",
    "})\n",
    "\n",
    "sales_pipeline_df = sales_pipeline_df.fillna({\n",
    "    'account': 'Desconhecido',        # Para conta\n",
    "    'engage_date': 'Desconhecido',    # Para data de engajamento\n",
    "    'close_date': 'Desconhecido',     # Para data de fechamento\n",
    "    'close_value': 0                  # Para valor de fechamento\n",
    "})\n",
    "\n",
    "accounts_df.show()\n",
    "sales_pipeline_df.show()\n",
    "\n"
   ]
  },
  {
   "cell_type": "code",
   "execution_count": 0,
   "metadata": {
    "application/vnd.databricks.v1+cell": {
     "cellMetadata": {
      "byteLimit": 2048000,
      "rowLimit": 10000
     },
     "inputWidgets": {},
     "nuid": "74c4429b-d8b5-421a-9841-f197a1392661",
     "showTitle": false,
     "tableResultSettingsMap": {},
     "title": ""
    }
   },
   "outputs": [
    {
     "output_type": "stream",
     "name": "stdout",
     "output_type": "stream",
     "text": [
      "Duplicatas no DataFrame 'accounts_df': 0\nDuplicatas no DataFrame 'data_dictionary_df': 0\nDuplicatas no DataFrame 'products_df': 0\nDuplicatas no DataFrame 'sales_pipeline_df': 0\nDuplicatas no DataFrame 'sales_teams_df': 0\n"
     ]
    }
   ],
   "source": [
    "# Verificando valores duplicatos\n",
    "dfs = [accounts_df, data_dictionary_df, products_df, sales_pipeline_df, sales_teams_df]\n",
    "names = [\"accounts_df\", \"data_dictionary_df\", \"products_df\", \"sales_pipeline_df\", \"sales_teams_df\"]\n",
    "\n",
    "# Função para verificar duplicatas em cada DataFrame\n",
    "for df, name in zip(dfs, names):\n",
    "    duplicates = df.count() - df.dropDuplicates().count()\n",
    "    print(f\"Duplicatas no DataFrame '{name}': {duplicates}\")\n",
    "\n"
   ]
  },
  {
   "cell_type": "markdown",
   "metadata": {
    "application/vnd.databricks.v1+cell": {
     "cellMetadata": {
      "byteLimit": 2048000,
      "rowLimit": 10000
     },
     "inputWidgets": {},
     "nuid": "048a8db4-17c9-46dd-bf32-8f63881a1144",
     "showTitle": false,
     "tableResultSettingsMap": {},
     "title": ""
    }
   },
   "source": [
    "## Registrar as tabelas como views temporárias"
   ]
  },
  {
   "cell_type": "code",
   "execution_count": 0,
   "metadata": {
    "application/vnd.databricks.v1+cell": {
     "cellMetadata": {
      "byteLimit": 2048000,
      "rowLimit": 10000
     },
     "inputWidgets": {},
     "nuid": "56748de3-f341-427b-90a0-a1d788c5287c",
     "showTitle": false,
     "tableResultSettingsMap": {},
     "title": ""
    }
   },
   "outputs": [],
   "source": [
    "accounts_df.createOrReplaceTempView(\"accounts\")\n",
    "sales_pipeline_df.createOrReplaceTempView(\"sales_pipeline\")\n",
    "products_df.createOrReplaceTempView(\"products\")\n",
    "sales_teams_df.createOrReplaceTempView(\"sales_teams\")"
   ]
  },
  {
   "cell_type": "markdown",
   "metadata": {
    "application/vnd.databricks.v1+cell": {
     "cellMetadata": {
      "byteLimit": 2048000,
      "rowLimit": 10000
     },
     "inputWidgets": {},
     "nuid": "bd7b298d-7349-4fe7-af35-2148d4f350c0",
     "showTitle": false,
     "tableResultSettingsMap": {},
     "title": ""
    }
   },
   "source": [
    "## Análise de CRM"
   ]
  },
  {
   "cell_type": "markdown",
   "metadata": {
    "application/vnd.databricks.v1+cell": {
     "cellMetadata": {
      "byteLimit": 2048000,
      "rowLimit": 10000
     },
     "inputWidgets": {},
     "nuid": "62cd495b-0044-42ce-b572-dab53d57a1f8",
     "showTitle": false,
     "tableResultSettingsMap": {},
     "title": ""
    }
   },
   "source": [
    "### 1. Quais são os produtos mais vendidos por cada conta?"
   ]
  },
  {
   "cell_type": "code",
   "execution_count": 0,
   "metadata": {
    "application/vnd.databricks.v1+cell": {
     "cellMetadata": {
      "byteLimit": 2048000,
      "implicitDf": true,
      "rowLimit": 10000
     },
     "inputWidgets": {},
     "nuid": "be2702a6-10d6-4804-af4b-813ba0e906db",
     "showTitle": false,
     "tableResultSettingsMap": {},
     "title": ""
    }
   },
   "outputs": [
    {
     "output_type": "display_data",
     "data": {
      "text/html": [
       "<style scoped>\n",
       "  .table-result-container {\n",
       "    max-height: 300px;\n",
       "    overflow: auto;\n",
       "  }\n",
       "  table, th, td {\n",
       "    border: 1px solid black;\n",
       "    border-collapse: collapse;\n",
       "  }\n",
       "  th, td {\n",
       "    padding: 5px;\n",
       "  }\n",
       "  th {\n",
       "    text-align: left;\n",
       "  }\n",
       "</style><div class='table-result-container'><table class='table-result'><thead style='background-color: white'><tr><th>account</th><th>product</th><th>total_sales</th></tr></thead><tbody><tr><td>Kan-code</td><td>GTX Plus Pro</td><td>92402</td></tr><tr><td>Cheers</td><td>GTK 500</td><td>82601</td></tr><tr><td>Konex</td><td>MG Advanced</td><td>74379</td></tr><tr><td>Condax</td><td>GTX Plus Pro</td><td>70345</td></tr><tr><td>Goodsilron</td><td>GTX Plus Pro</td><td>65692</td></tr><tr><td>Treequote</td><td>GTX Plus Pro</td><td>62963</td></tr><tr><td>Rangreen</td><td>MG Advanced</td><td>60111</td></tr><tr><td>Lexiqvolax</td><td>GTX Plus Pro</td><td>56805</td></tr><tr><td>dambase</td><td>GTX Plus Pro</td><td>55656</td></tr><tr><td>Xx-holding</td><td>GTK 500</td><td>55406</td></tr><tr><td>Streethex</td><td>GTX Plus Pro</td><td>54279</td></tr><tr><td>Hatfan</td><td>GTX Plus Pro</td><td>53088</td></tr><tr><td>Scotfind</td><td>GTX Plus Pro</td><td>50450</td></tr><tr><td>Xx-zobam</td><td>MG Advanced</td><td>49114</td></tr><tr><td>Isdom</td><td>MG Advanced</td><td>48840</td></tr><tr><td>Warephase</td><td>GTX Plus Pro</td><td>48209</td></tr><tr><td>Hottechi</td><td>MG Advanced</td><td>47659</td></tr><tr><td>Stanredtax</td><td>MG Advanced</td><td>47172</td></tr><tr><td>Singletechno</td><td>MG Advanced</td><td>46009</td></tr><tr><td>Ontomedia</td><td>GTX Plus Pro</td><td>45514</td></tr><tr><td>Plussunin</td><td>GTX Plus Pro</td><td>45420</td></tr><tr><td>Finjob</td><td>MG Advanced</td><td>44213</td></tr><tr><td>Ganjaflex</td><td>GTX Plus Pro</td><td>43614</td></tr><tr><td>Dontechi</td><td>MG Advanced</td><td>42537</td></tr><tr><td>Labdrill</td><td>MG Advanced</td><td>42425</td></tr><tr><td>Ron-tech</td><td>MG Advanced</td><td>41499</td></tr><tr><td>Sonron</td><td>GTX Plus Pro</td><td>41126</td></tr><tr><td>Zotware</td><td>GTX Plus Pro</td><td>40635</td></tr><tr><td>Finhigh</td><td>MG Advanced</td><td>40234</td></tr><tr><td>Inity</td><td>GTX Plus Pro</td><td>39809</td></tr><tr><td>Acme Corporation</td><td>GTX Plus Pro</td><td>39585</td></tr><tr><td>Globex Corporation</td><td>GTX Plus Pro</td><td>39535</td></tr><tr><td>Green-Plus</td><td>GTX Plus Pro</td><td>39181</td></tr><tr><td>Faxquote</td><td>GTX Plus Pro</td><td>38732</td></tr><tr><td>Plexzap</td><td>MG Advanced</td><td>38715</td></tr><tr><td>Umbrella Corporation</td><td>GTX Plus Pro</td><td>38574</td></tr><tr><td>Bioholding</td><td>GTX Plus Pro</td><td>38148</td></tr><tr><td>Plusstrip</td><td>GTX Plus Pro</td><td>38115</td></tr><tr><td>Betatech</td><td>GTX Plus Pro</td><td>37725</td></tr><tr><td>Codehow</td><td>MG Advanced</td><td>37607</td></tr><tr><td>Mathtouch</td><td>GTX Plus Pro</td><td>37022</td></tr><tr><td>Conecom</td><td>GTX Plus Pro</td><td>35030</td></tr><tr><td>J-Texon</td><td>MG Advanced</td><td>34495</td></tr><tr><td>Funholding</td><td>GTX Plus Pro</td><td>34296</td></tr><tr><td>Iselectrics</td><td>GTX Plus Pro</td><td>33942</td></tr><tr><td>Domzoom</td><td>MG Advanced</td><td>33405</td></tr><tr><td>Sunnamplex</td><td>MG Advanced</td><td>33333</td></tr><tr><td>Fasehatice</td><td>GTX Plus Pro</td><td>31758</td></tr><tr><td>Genco Pura Olive Oil Company</td><td>GTX Plus Pro</td><td>31363</td></tr><tr><td>Initech</td><td>GTX Plus Pro</td><td>31250</td></tr><tr><td>Gekko & Co</td><td>MG Advanced</td><td>31211</td></tr><tr><td>Toughzap</td><td>GTX Plus Pro</td><td>31006</td></tr><tr><td>Groovestreet</td><td>GTK 500</td><td>30288</td></tr><tr><td>Donquadtech</td><td>GTX Plus Pro</td><td>29187</td></tr><tr><td>Opentech</td><td>GTX Plus Pro</td><td>28103</td></tr><tr><td>Cancity</td><td>GTX Plus Pro</td><td>27968</td></tr><tr><td>Doncon</td><td>GTX Plus Pro</td><td>27673</td></tr><tr><td>Blackzim</td><td>MG Advanced</td><td>26672</td></tr><tr><td>Zoomit</td><td>GTK 500</td><td>25897</td></tr><tr><td>Massive Dynamic</td><td>MG Advanced</td><td>25820</td></tr><tr><td>Y-corporation</td><td>GTK 500</td><td>25288</td></tr><tr><td>Rantouch</td><td>GTK 500</td><td>24899</td></tr><tr><td>Zathunicon</td><td>GTX Plus Pro</td><td>24792</td></tr><tr><td>Zumgoity</td><td>MG Advanced</td><td>23773</td></tr><tr><td>Kinnamplus</td><td>MG Advanced</td><td>23696</td></tr><tr><td>Silis</td><td>GTX Plus Pro</td><td>23413</td></tr><tr><td>Bioplex</td><td>GTX Plus Pro</td><td>23111</td></tr><tr><td>Betasoloin</td><td>MG Advanced</td><td>22960</td></tr><tr><td>Dalttechnology</td><td>GTX Plus Pro</td><td>22861</td></tr><tr><td>Konmatfix</td><td>MG Advanced</td><td>21890</td></tr><tr><td>Newex</td><td>MG Advanced</td><td>21550</td></tr><tr><td>Zencorporation</td><td>GTX Plus Pro</td><td>21132</td></tr><tr><td>Rundofase</td><td>MG Advanced</td><td>20557</td></tr><tr><td>Statholdings</td><td>MG Advanced</td><td>20079</td></tr><tr><td>The New York Inquirer</td><td>MG Advanced</td><td>20029</td></tr><tr><td>Gogozoom</td><td>MG Advanced</td><td>19574</td></tr><tr><td>Donware</td><td>MG Advanced</td><td>19053</td></tr><tr><td>Yearin</td><td>GTX Plus Pro</td><td>17179</td></tr><tr><td>Vehement Capital Partners</td><td>GTX Plus Pro</td><td>16863</td></tr><tr><td>Golddex</td><td>GTX Plus Pro</td><td>16655</td></tr><tr><td>Scottech</td><td>GTX Plus Pro</td><td>16537</td></tr><tr><td>Bubba Gump</td><td>MG Advanced</td><td>14420</td></tr><tr><td>Bluth Company</td><td>MG Advanced</td><td>13610</td></tr><tr><td>Nam-zim</td><td>GTX Plus Pro</td><td>13146</td></tr><tr><td>Sumace</td><td>GTX Plus Pro</td><td>10364</td></tr></tbody></table></div>"
      ]
     },
     "metadata": {
      "application/vnd.databricks.v1+output": {
       "addedWidgets": {},
       "aggData": [],
       "aggError": "",
       "aggOverflow": false,
       "aggSchema": [],
       "aggSeriesLimitReached": false,
       "aggType": "",
       "arguments": {},
       "columnCustomDisplayInfos": {},
       "data": [
        [
         "Kan-code",
         "GTX Plus Pro",
         92402
        ],
        [
         "Cheers",
         "GTK 500",
         82601
        ],
        [
         "Konex",
         "MG Advanced",
         74379
        ],
        [
         "Condax",
         "GTX Plus Pro",
         70345
        ],
        [
         "Goodsilron",
         "GTX Plus Pro",
         65692
        ],
        [
         "Treequote",
         "GTX Plus Pro",
         62963
        ],
        [
         "Rangreen",
         "MG Advanced",
         60111
        ],
        [
         "Lexiqvolax",
         "GTX Plus Pro",
         56805
        ],
        [
         "dambase",
         "GTX Plus Pro",
         55656
        ],
        [
         "Xx-holding",
         "GTK 500",
         55406
        ],
        [
         "Streethex",
         "GTX Plus Pro",
         54279
        ],
        [
         "Hatfan",
         "GTX Plus Pro",
         53088
        ],
        [
         "Scotfind",
         "GTX Plus Pro",
         50450
        ],
        [
         "Xx-zobam",
         "MG Advanced",
         49114
        ],
        [
         "Isdom",
         "MG Advanced",
         48840
        ],
        [
         "Warephase",
         "GTX Plus Pro",
         48209
        ],
        [
         "Hottechi",
         "MG Advanced",
         47659
        ],
        [
         "Stanredtax",
         "MG Advanced",
         47172
        ],
        [
         "Singletechno",
         "MG Advanced",
         46009
        ],
        [
         "Ontomedia",
         "GTX Plus Pro",
         45514
        ],
        [
         "Plussunin",
         "GTX Plus Pro",
         45420
        ],
        [
         "Finjob",
         "MG Advanced",
         44213
        ],
        [
         "Ganjaflex",
         "GTX Plus Pro",
         43614
        ],
        [
         "Dontechi",
         "MG Advanced",
         42537
        ],
        [
         "Labdrill",
         "MG Advanced",
         42425
        ],
        [
         "Ron-tech",
         "MG Advanced",
         41499
        ],
        [
         "Sonron",
         "GTX Plus Pro",
         41126
        ],
        [
         "Zotware",
         "GTX Plus Pro",
         40635
        ],
        [
         "Finhigh",
         "MG Advanced",
         40234
        ],
        [
         "Inity",
         "GTX Plus Pro",
         39809
        ],
        [
         "Acme Corporation",
         "GTX Plus Pro",
         39585
        ],
        [
         "Globex Corporation",
         "GTX Plus Pro",
         39535
        ],
        [
         "Green-Plus",
         "GTX Plus Pro",
         39181
        ],
        [
         "Faxquote",
         "GTX Plus Pro",
         38732
        ],
        [
         "Plexzap",
         "MG Advanced",
         38715
        ],
        [
         "Umbrella Corporation",
         "GTX Plus Pro",
         38574
        ],
        [
         "Bioholding",
         "GTX Plus Pro",
         38148
        ],
        [
         "Plusstrip",
         "GTX Plus Pro",
         38115
        ],
        [
         "Betatech",
         "GTX Plus Pro",
         37725
        ],
        [
         "Codehow",
         "MG Advanced",
         37607
        ],
        [
         "Mathtouch",
         "GTX Plus Pro",
         37022
        ],
        [
         "Conecom",
         "GTX Plus Pro",
         35030
        ],
        [
         "J-Texon",
         "MG Advanced",
         34495
        ],
        [
         "Funholding",
         "GTX Plus Pro",
         34296
        ],
        [
         "Iselectrics",
         "GTX Plus Pro",
         33942
        ],
        [
         "Domzoom",
         "MG Advanced",
         33405
        ],
        [
         "Sunnamplex",
         "MG Advanced",
         33333
        ],
        [
         "Fasehatice",
         "GTX Plus Pro",
         31758
        ],
        [
         "Genco Pura Olive Oil Company",
         "GTX Plus Pro",
         31363
        ],
        [
         "Initech",
         "GTX Plus Pro",
         31250
        ],
        [
         "Gekko & Co",
         "MG Advanced",
         31211
        ],
        [
         "Toughzap",
         "GTX Plus Pro",
         31006
        ],
        [
         "Groovestreet",
         "GTK 500",
         30288
        ],
        [
         "Donquadtech",
         "GTX Plus Pro",
         29187
        ],
        [
         "Opentech",
         "GTX Plus Pro",
         28103
        ],
        [
         "Cancity",
         "GTX Plus Pro",
         27968
        ],
        [
         "Doncon",
         "GTX Plus Pro",
         27673
        ],
        [
         "Blackzim",
         "MG Advanced",
         26672
        ],
        [
         "Zoomit",
         "GTK 500",
         25897
        ],
        [
         "Massive Dynamic",
         "MG Advanced",
         25820
        ],
        [
         "Y-corporation",
         "GTK 500",
         25288
        ],
        [
         "Rantouch",
         "GTK 500",
         24899
        ],
        [
         "Zathunicon",
         "GTX Plus Pro",
         24792
        ],
        [
         "Zumgoity",
         "MG Advanced",
         23773
        ],
        [
         "Kinnamplus",
         "MG Advanced",
         23696
        ],
        [
         "Silis",
         "GTX Plus Pro",
         23413
        ],
        [
         "Bioplex",
         "GTX Plus Pro",
         23111
        ],
        [
         "Betasoloin",
         "MG Advanced",
         22960
        ],
        [
         "Dalttechnology",
         "GTX Plus Pro",
         22861
        ],
        [
         "Konmatfix",
         "MG Advanced",
         21890
        ],
        [
         "Newex",
         "MG Advanced",
         21550
        ],
        [
         "Zencorporation",
         "GTX Plus Pro",
         21132
        ],
        [
         "Rundofase",
         "MG Advanced",
         20557
        ],
        [
         "Statholdings",
         "MG Advanced",
         20079
        ],
        [
         "The New York Inquirer",
         "MG Advanced",
         20029
        ],
        [
         "Gogozoom",
         "MG Advanced",
         19574
        ],
        [
         "Donware",
         "MG Advanced",
         19053
        ],
        [
         "Yearin",
         "GTX Plus Pro",
         17179
        ],
        [
         "Vehement Capital Partners",
         "GTX Plus Pro",
         16863
        ],
        [
         "Golddex",
         "GTX Plus Pro",
         16655
        ],
        [
         "Scottech",
         "GTX Plus Pro",
         16537
        ],
        [
         "Bubba Gump",
         "MG Advanced",
         14420
        ],
        [
         "Bluth Company",
         "MG Advanced",
         13610
        ],
        [
         "Nam-zim",
         "GTX Plus Pro",
         13146
        ],
        [
         "Sumace",
         "GTX Plus Pro",
         10364
        ]
       ],
       "datasetInfos": [],
       "dbfsResultPath": null,
       "isJsonSchema": true,
       "metadata": {},
       "overflow": false,
       "plotOptions": {
        "customPlotOptions": {},
        "displayType": "table",
        "pivotAggregation": null,
        "pivotColumns": null,
        "xColumns": null,
        "yColumns": null
       },
       "removedWidgets": [],
       "schema": [
        {
         "metadata": "{}",
         "name": "account",
         "type": "\"string\""
        },
        {
         "metadata": "{}",
         "name": "product",
         "type": "\"string\""
        },
        {
         "metadata": "{}",
         "name": "total_sales",
         "type": "\"long\""
        }
       ],
       "type": "table"
      }
     },
     "output_type": "display_data"
    },
    {
     "output_type": "display_data",
     "data": {
      "text/plain": [
       "Databricks visualization. Run in Databricks to view."
      ]
     },
     "metadata": {
      "application/vnd.databricks.v1.subcommand+json": {
       "baseErrorDetails": null,
       "bindings": {},
       "collapsed": false,
       "command": "%sql WITH q AS (WITH SalesSummary AS (\n    SELECT\n        a.account,              \n        p.product,             \n        SUM(sp.close_value) AS total_sales,\n        RANK() OVER (PARTITION BY a.account ORDER BY SUM(sp.close_value) DESC) AS rank\n    FROM accounts AS a\n    JOIN sales_pipeline AS sp ON a.account = sp.account \n    JOIN products AS p ON sp.product = p.product          \n    GROUP BY a.account, p.product\n)\nSELECT \n    account, \n    product, \n    total_sales\nFROM SalesSummary\nWHERE rank = 1\nORDER BY total_sales DESC) SELECT `account`,SUM(`total_sales`) `column_9d33bc7390`,`product` FROM q GROUP BY `account`,`product`",
       "commandTitle": "Visualização 1",
       "commandType": "auto",
       "commandVersion": 0,
       "commentThread": [],
       "commentsVisible": false,
       "contentSha256Hex": null,
       "customPlotOptions": {
        "redashChart": [
         {
          "key": "type",
          "value": "CHART"
         },
         {
          "key": "options",
          "value": {
           "alignYAxesAtZero": false,
           "coefficient": 1,
           "columnConfigurationMap": {
            "series": {
             "column": "product",
             "id": "column_9d33bc7392"
            },
            "x": {
             "column": "account",
             "id": "column_9d33bc7393"
            },
            "y": [
             {
              "column": "total_sales",
              "id": "column_9d33bc7390",
              "transform": "SUM"
             }
            ]
           },
           "dateTimeFormat": "DD/MM/YYYY HH:mm",
           "direction": {
            "type": "counterclockwise"
           },
           "error_y": {
            "type": "data",
            "visible": true
           },
           "globalSeriesType": "column",
           "hideXAxis": false,
           "hideYAxes": false,
           "isAggregationOn": true,
           "legend": {
            "traceorder": "normal"
           },
           "missingValuesAsZero": true,
           "numberFormat": "0,0.[00000]",
           "percentFormat": "0[.]00%",
           "reverseX": false,
           "series": {
            "error_y": {
             "type": "data",
             "visible": true
            },
            "stacking": "stack"
           },
           "seriesOptions": {
            "GTK 500": {
             "color": "#002FB4",
             "yAxis": 0
            },
            "column_9d33bc7390": {
             "type": "column",
             "yAxis": 0
            }
           },
           "showDataLabels": false,
           "sizemode": "diameter",
           "sortX": false,
           "sortY": true,
           "swappedAxes": false,
           "textFormat": "",
           "useAggregationsUi": true,
           "valuesOptions": {},
           "version": 2,
           "xAxis": {
            "labels": {
             "enabled": true
            },
            "title": {
             "text": "Contas"
            },
            "type": "-"
           },
           "yAxis": [
            {
             "rangeMin": 0,
             "title": {
              "text": "Produtos mais vendidos "
             },
             "type": "-"
            },
            {
             "opposite": true,
             "type": "-"
            }
           ]
          }
         }
        ]
       },
       "datasetPreviewNameToCmdIdMap": {},
       "diffDeletes": [],
       "diffInserts": [],
       "displayType": "redashChart",
       "error": null,
       "errorDetails": null,
       "errorSummary": null,
       "errorTraceType": null,
       "finishTime": 0,
       "globalVars": {},
       "guid": "",
       "height": "auto",
       "hideCommandCode": false,
       "hideCommandResult": false,
       "iPythonMetadata": null,
       "inputWidgets": {},
       "isLockedInExamMode": false,
       "latestUser": "a user",
       "latestUserId": null,
       "listResultMetadata": null,
       "metadata": {
        "byteLimit": 2048000,
        "implicitDf": true,
        "rowLimit": 10000
       },
       "nuid": "c467e6c0-7d97-46a6-b56a-1a028381eac4",
       "origId": 0,
       "parentHierarchy": [],
       "pivotAggregation": null,
       "pivotColumns": null,
       "position": 10.0,
       "resultDbfsErrorMessage": null,
       "resultDbfsStatus": "INLINED_IN_TREE",
       "results": null,
       "showCommandTitle": false,
       "startTime": 0,
       "state": "finished",
       "streamStates": {},
       "subcommandOptions": {
        "queryPlan": {
         "groups": [
          {
           "column": "account",
           "type": "column"
          },
          {
           "column": "product",
           "type": "column"
          }
         ],
         "selects": [
          {
           "column": "account",
           "type": "column"
          },
          {
           "alias": "column_9d33bc7390",
           "args": [
            {
             "column": "total_sales",
             "type": "column"
            }
           ],
           "function": "SUM",
           "type": "function"
          },
          {
           "column": "product",
           "type": "column"
          }
         ]
        }
       },
       "submitTime": 0,
       "subtype": "tableResultSubCmd.visualization",
       "tableResultIndex": 0,
       "tableResultSettingsMap": {},
       "useConsistentColors": false,
       "version": "CommandV1",
       "width": "auto",
       "workflows": [],
       "xColumns": null,
       "yColumns": null
      }
     },
     "output_type": "display_data"
    }
   ],
   "source": [
    "%sql\n",
    "WITH SalesSummary AS (\n",
    "    SELECT\n",
    "        a.account,              \n",
    "        p.product,             \n",
    "        SUM(sp.close_value) AS total_sales,\n",
    "        RANK() OVER (PARTITION BY a.account ORDER BY SUM(sp.close_value) DESC) AS rank\n",
    "    FROM accounts AS a\n",
    "    JOIN sales_pipeline AS sp ON a.account = sp.account \n",
    "    JOIN products AS p ON sp.product = p.product          \n",
    "    GROUP BY a.account, p.product\n",
    ")\n",
    "SELECT \n",
    "    account, \n",
    "    product, \n",
    "    total_sales\n",
    "FROM SalesSummary\n",
    "WHERE rank = 1\n",
    "ORDER BY total_sales DESC;\n"
   ]
  },
  {
   "cell_type": "markdown",
   "metadata": {
    "application/vnd.databricks.v1+cell": {
     "cellMetadata": {
      "byteLimit": 2048000,
      "rowLimit": 10000
     },
     "inputWidgets": {},
     "nuid": "8b9911c3-07b4-4f2c-bbf4-5b15f2fffaba",
     "showTitle": false,
     "tableResultSettingsMap": {},
     "title": ""
    }
   },
   "source": [
    "### 2. Qual é o valor total de vendas fechado por cada produto?"
   ]
  },
  {
   "cell_type": "code",
   "execution_count": 0,
   "metadata": {
    "application/vnd.databricks.v1+cell": {
     "cellMetadata": {
      "byteLimit": 2048000,
      "implicitDf": true,
      "rowLimit": 10000
     },
     "inputWidgets": {},
     "nuid": "4962a840-9221-4816-838f-a225d9cbc2fe",
     "showTitle": false,
     "tableResultSettingsMap": {},
     "title": ""
    }
   },
   "outputs": [
    {
     "output_type": "display_data",
     "data": {
      "text/html": [
       "<style scoped>\n",
       "  .table-result-container {\n",
       "    max-height: 300px;\n",
       "    overflow: auto;\n",
       "  }\n",
       "  table, th, td {\n",
       "    border: 1px solid black;\n",
       "    border-collapse: collapse;\n",
       "  }\n",
       "  th, td {\n",
       "    padding: 5px;\n",
       "  }\n",
       "  th {\n",
       "    text-align: left;\n",
       "  }\n",
       "</style><div class='table-result-container'><table class='table-result'><thead style='background-color: white'><tr><th>product</th><th>total_sales_value</th></tr></thead><tbody><tr><td>GTX Plus Pro</td><td>2629651</td></tr><tr><td>MG Advanced</td><td>2216387</td></tr><tr><td>GTX Plus Basic</td><td>705275</td></tr><tr><td>GTX Basic</td><td>499263</td></tr><tr><td>GTK 500</td><td>400612</td></tr><tr><td>MG Special</td><td>43768</td></tr></tbody></table></div>"
      ]
     },
     "metadata": {
      "application/vnd.databricks.v1+output": {
       "addedWidgets": {},
       "aggData": [],
       "aggError": "",
       "aggOverflow": false,
       "aggSchema": [],
       "aggSeriesLimitReached": false,
       "aggType": "",
       "arguments": {},
       "columnCustomDisplayInfos": {},
       "data": [
        [
         "GTX Plus Pro",
         2629651
        ],
        [
         "MG Advanced",
         2216387
        ],
        [
         "GTX Plus Basic",
         705275
        ],
        [
         "GTX Basic",
         499263
        ],
        [
         "GTK 500",
         400612
        ],
        [
         "MG Special",
         43768
        ]
       ],
       "datasetInfos": [],
       "dbfsResultPath": null,
       "isJsonSchema": true,
       "metadata": {},
       "overflow": false,
       "plotOptions": {
        "customPlotOptions": {},
        "displayType": "table",
        "pivotAggregation": null,
        "pivotColumns": null,
        "xColumns": null,
        "yColumns": null
       },
       "removedWidgets": [],
       "schema": [
        {
         "metadata": "{}",
         "name": "product",
         "type": "\"string\""
        },
        {
         "metadata": "{}",
         "name": "total_sales_value",
         "type": "\"long\""
        }
       ],
       "type": "table"
      }
     },
     "output_type": "display_data"
    },
    {
     "output_type": "display_data",
     "data": {
      "text/plain": [
       "Databricks visualization. Run in Databricks to view."
      ]
     },
     "metadata": {
      "application/vnd.databricks.v1.subcommand+json": {
       "baseErrorDetails": null,
       "bindings": {},
       "collapsed": false,
       "command": "%sql WITH q AS (SELECT\n    sp.product,                               \n    SUM(sp.close_value) AS total_sales_value  \nFROM\n    sales_pipeline AS sp\nJOIN\n    products AS p ON sp.product = p.product   \nGROUP BY\n    sp.product                                \nORDER BY\n    total_sales_value DESC) SELECT `product`,SUM(`total_sales_value`) `column_9d33bc73117` FROM q GROUP BY `product`",
       "commandTitle": "Visualização 1",
       "commandType": "auto",
       "commandVersion": 0,
       "commentThread": [],
       "commentsVisible": false,
       "contentSha256Hex": null,
       "customPlotOptions": {
        "redashChart": [
         {
          "key": "type",
          "value": "CHART"
         },
         {
          "key": "options",
          "value": {
           "alignYAxesAtZero": true,
           "coefficient": 1,
           "columnConfigurationMap": {
            "x": {
             "column": "product",
             "id": "column_9d33bc73115"
            },
            "y": [
             {
              "column": "total_sales_value",
              "id": "column_9d33bc73117",
              "transform": "SUM"
             }
            ]
           },
           "dateTimeFormat": "DD/MM/YYYY HH:mm",
           "direction": {
            "type": "counterclockwise"
           },
           "error_y": {
            "type": "data",
            "visible": true
           },
           "globalSeriesType": "column",
           "hideXAxis": false,
           "hideYAxes": true,
           "isAggregationOn": true,
           "legend": {
            "traceorder": "normal"
           },
           "missingValuesAsZero": true,
           "numberFormat": "0,0.[00000]",
           "percentFormat": "0[.]00%",
           "reverseX": false,
           "series": {
            "error_y": {
             "type": "data",
             "visible": true
            },
            "stacking": null
           },
           "seriesOptions": {
            "column_9d33bc73117": {
             "color": "#049235",
             "type": "column",
             "yAxis": 0
            }
           },
           "showDataLabels": true,
           "sizemode": "diameter",
           "sortX": false,
           "sortY": true,
           "swappedAxes": false,
           "textFormat": "",
           "useAggregationsUi": true,
           "valuesOptions": {},
           "version": 2,
           "xAxis": {
            "labels": {
             "enabled": true
            },
            "title": {
             "text": "Valor Total de Vendas por Produto"
            },
            "type": "-"
           },
           "yAxis": [
            {
             "type": "-"
            },
            {
             "opposite": true,
             "type": "-"
            }
           ]
          }
         }
        ]
       },
       "datasetPreviewNameToCmdIdMap": {},
       "diffDeletes": [],
       "diffInserts": [],
       "displayType": "redashChart",
       "error": null,
       "errorDetails": null,
       "errorSummary": null,
       "errorTraceType": null,
       "finishTime": 0,
       "globalVars": {},
       "guid": "",
       "height": "auto",
       "hideCommandCode": false,
       "hideCommandResult": false,
       "iPythonMetadata": null,
       "inputWidgets": {},
       "isLockedInExamMode": false,
       "latestUser": "a user",
       "latestUserId": null,
       "listResultMetadata": null,
       "metadata": {
        "byteLimit": 2048000,
        "implicitDf": true,
        "rowLimit": 10000
       },
       "nuid": "451b4c18-5149-4d9a-8c64-ae6c139567be",
       "origId": 0,
       "parentHierarchy": [],
       "pivotAggregation": null,
       "pivotColumns": null,
       "position": 16.0,
       "resultDbfsErrorMessage": null,
       "resultDbfsStatus": "INLINED_IN_TREE",
       "results": null,
       "showCommandTitle": false,
       "startTime": 0,
       "state": "finished",
       "streamStates": {},
       "subcommandOptions": {
        "queryPlan": {
         "groups": [
          {
           "column": "product",
           "type": "column"
          }
         ],
         "selects": [
          {
           "column": "product",
           "type": "column"
          },
          {
           "alias": "column_9d33bc73117",
           "args": [
            {
             "column": "total_sales_value",
             "type": "column"
            }
           ],
           "function": "SUM",
           "type": "function"
          }
         ]
        }
       },
       "submitTime": 0,
       "subtype": "tableResultSubCmd.visualization",
       "tableResultIndex": 0,
       "tableResultSettingsMap": {},
       "useConsistentColors": false,
       "version": "CommandV1",
       "width": "auto",
       "workflows": [],
       "xColumns": null,
       "yColumns": null
      }
     },
     "output_type": "display_data"
    }
   ],
   "source": [
    "%sql\n",
    "SELECT\n",
    "    sp.product,                               \n",
    "    SUM(sp.close_value) AS total_sales_value  \n",
    "FROM\n",
    "    sales_pipeline AS sp\n",
    "JOIN\n",
    "    products AS p ON sp.product = p.product   \n",
    "GROUP BY\n",
    "    sp.product                                \n",
    "ORDER BY\n",
    "    total_sales_value DESC;                  "
   ]
  },
  {
   "cell_type": "markdown",
   "metadata": {
    "application/vnd.databricks.v1+cell": {
     "cellMetadata": {
      "byteLimit": 2048000,
      "rowLimit": 10000
     },
     "inputWidgets": {},
     "nuid": "5a210dcb-f476-45df-9c81-b238e456172d",
     "showTitle": false,
     "tableResultSettingsMap": {},
     "title": ""
    }
   },
   "source": [
    "## 3. Quais são os agentes de vendas que mais fecharam vendas (valor total de vendas)?"
   ]
  },
  {
   "cell_type": "code",
   "execution_count": 0,
   "metadata": {
    "application/vnd.databricks.v1+cell": {
     "cellMetadata": {
      "byteLimit": 2048000,
      "implicitDf": true,
      "rowLimit": 10000
     },
     "inputWidgets": {},
     "nuid": "619399a0-dc34-408e-b84f-bcc490e1ee91",
     "showTitle": false,
     "tableResultSettingsMap": {},
     "title": ""
    }
   },
   "outputs": [
    {
     "output_type": "display_data",
     "data": {
      "text/html": [
       "<style scoped>\n",
       "  .table-result-container {\n",
       "    max-height: 300px;\n",
       "    overflow: auto;\n",
       "  }\n",
       "  table, th, td {\n",
       "    border: 1px solid black;\n",
       "    border-collapse: collapse;\n",
       "  }\n",
       "  th, td {\n",
       "    padding: 5px;\n",
       "  }\n",
       "  th {\n",
       "    text-align: left;\n",
       "  }\n",
       "</style><div class='table-result-container'><table class='table-result'><thead style='background-color: white'><tr><th>sales_agent</th><th>total_sales_value</th></tr></thead><tbody><tr><td>Darcel Schlecht</td><td>1153214</td></tr><tr><td>Vicki Laflamme</td><td>478396</td></tr><tr><td>Kary Hendrixson</td><td>454298</td></tr><tr><td>Cassey Cress</td><td>450489</td></tr><tr><td>Donn Cantrell</td><td>445860</td></tr><tr><td>Reed Clapper</td><td>438336</td></tr><tr><td>Zane Levy</td><td>430068</td></tr><tr><td>Corliss Cosme</td><td>421036</td></tr><tr><td>James Ascencio</td><td>413533</td></tr><tr><td>Daniell Hammack</td><td>364229</td></tr><tr><td>Maureen Marcano</td><td>350395</td></tr><tr><td>Gladys Colclough</td><td>345674</td></tr><tr><td>Markita Hansen</td><td>328792</td></tr><tr><td>Kami Bicknell</td><td>316456</td></tr><tr><td>Marty Freudenburg</td><td>291195</td></tr><tr><td>Elease Gluck</td><td>289195</td></tr><tr><td>Jonathan Berthelot</td><td>284886</td></tr><tr><td>Anna Snelling</td><td>275056</td></tr><tr><td>Hayden Neloms</td><td>272111</td></tr><tr><td>Boris Faz</td><td>261631</td></tr><tr><td>Rosalina Dieter</td><td>235403</td></tr><tr><td>Rosie Papadopoulos</td><td>230169</td></tr><tr><td>Cecily Lampkin</td><td>229800</td></tr><tr><td>Moses Frase</td><td>207182</td></tr><tr><td>Garret Kinder</td><td>197773</td></tr><tr><td>Lajuana Vencill</td><td>194632</td></tr><tr><td>Versie Hillebrand</td><td>187693</td></tr><tr><td>Niesha Huffines</td><td>176961</td></tr><tr><td>Wilburn Farren</td><td>157640</td></tr><tr><td>Violet Mclelland</td><td>123431</td></tr></tbody></table></div>"
      ]
     },
     "metadata": {
      "application/vnd.databricks.v1+output": {
       "addedWidgets": {},
       "aggData": [],
       "aggError": "",
       "aggOverflow": false,
       "aggSchema": [],
       "aggSeriesLimitReached": false,
       "aggType": "",
       "arguments": {},
       "columnCustomDisplayInfos": {},
       "data": [
        [
         "Darcel Schlecht",
         1153214
        ],
        [
         "Vicki Laflamme",
         478396
        ],
        [
         "Kary Hendrixson",
         454298
        ],
        [
         "Cassey Cress",
         450489
        ],
        [
         "Donn Cantrell",
         445860
        ],
        [
         "Reed Clapper",
         438336
        ],
        [
         "Zane Levy",
         430068
        ],
        [
         "Corliss Cosme",
         421036
        ],
        [
         "James Ascencio",
         413533
        ],
        [
         "Daniell Hammack",
         364229
        ],
        [
         "Maureen Marcano",
         350395
        ],
        [
         "Gladys Colclough",
         345674
        ],
        [
         "Markita Hansen",
         328792
        ],
        [
         "Kami Bicknell",
         316456
        ],
        [
         "Marty Freudenburg",
         291195
        ],
        [
         "Elease Gluck",
         289195
        ],
        [
         "Jonathan Berthelot",
         284886
        ],
        [
         "Anna Snelling",
         275056
        ],
        [
         "Hayden Neloms",
         272111
        ],
        [
         "Boris Faz",
         261631
        ],
        [
         "Rosalina Dieter",
         235403
        ],
        [
         "Rosie Papadopoulos",
         230169
        ],
        [
         "Cecily Lampkin",
         229800
        ],
        [
         "Moses Frase",
         207182
        ],
        [
         "Garret Kinder",
         197773
        ],
        [
         "Lajuana Vencill",
         194632
        ],
        [
         "Versie Hillebrand",
         187693
        ],
        [
         "Niesha Huffines",
         176961
        ],
        [
         "Wilburn Farren",
         157640
        ],
        [
         "Violet Mclelland",
         123431
        ]
       ],
       "datasetInfos": [],
       "dbfsResultPath": null,
       "isJsonSchema": true,
       "metadata": {},
       "overflow": false,
       "plotOptions": {
        "customPlotOptions": {},
        "displayType": "table",
        "pivotAggregation": null,
        "pivotColumns": null,
        "xColumns": null,
        "yColumns": null
       },
       "removedWidgets": [],
       "schema": [
        {
         "metadata": "{}",
         "name": "sales_agent",
         "type": "\"string\""
        },
        {
         "metadata": "{}",
         "name": "total_sales_value",
         "type": "\"long\""
        }
       ],
       "type": "table"
      }
     },
     "output_type": "display_data"
    },
    {
     "output_type": "display_data",
     "data": {
      "text/plain": [
       "Databricks visualization. Run in Databricks to view."
      ]
     },
     "metadata": {
      "application/vnd.databricks.v1.subcommand+json": {
       "baseErrorDetails": null,
       "bindings": {},
       "collapsed": false,
       "command": "%sql\nSELECT\n    st.sales_agent,                           \n    SUM(sp.close_value) AS total_sales_value  \nFROM\n    sales_pipeline sp\nJOIN\n    sales_teams AS st ON sp.sales_agent = st.sales_agent  \nGROUP BY\n    st.sales_agent                            \nORDER BY\n    total_sales_value DESC;                 ",
       "commandTitle": "Visualização 1",
       "commandType": "auto",
       "commandVersion": 0,
       "commentThread": [],
       "commentsVisible": false,
       "contentSha256Hex": null,
       "customPlotOptions": {
        "redashChart": [
         {
          "key": "type",
          "value": "TABLE"
         },
         {
          "key": "options",
          "value": {
           "columns": [
            {
             "alignContent": "left",
             "allowHTML": true,
             "allowSearch": false,
             "booleanValues": [
              "false",
              "true"
             ],
             "displayAs": "string",
             "highlightLinks": false,
             "imageHeight": "",
             "imageTitleTemplate": "{{ @ }}",
             "imageUrlTemplate": "{{ @ }}",
             "imageWidth": "",
             "linkOpenInNewTab": true,
             "linkTextTemplate": "{{ @ }}",
             "linkTitleTemplate": "{{ @ }}",
             "linkUrlTemplate": "{{ @ }}",
             "name": "sales_agent",
             "order": 100000,
             "preserveWhitespace": false,
             "title": "Vendedores",
             "type": "string",
             "useMonospaceFont": false,
             "visible": true
            },
            {
             "alignContent": "right",
             "allowHTML": true,
             "allowSearch": false,
             "booleanValues": [
              "false",
              "true"
             ],
             "displayAs": "number",
             "highlightLinks": false,
             "imageHeight": "",
             "imageTitleTemplate": "{{ @ }}",
             "imageUrlTemplate": "{{ @ }}",
             "imageWidth": "",
             "linkOpenInNewTab": true,
             "linkTextTemplate": "{{ @ }}",
             "linkTitleTemplate": "{{ @ }}",
             "linkUrlTemplate": "{{ @ }}",
             "name": "total_sales_value",
             "numberFormat": "0",
             "order": 100001,
             "preserveWhitespace": false,
             "title": "Total de Vendas",
             "type": "integer",
             "useMonospaceFont": false,
             "visible": true
            }
           ],
           "condensed": true,
           "itemsPerPage": 20,
           "paginationSize": "default",
           "withRowNumber": true
          }
         }
        ]
       },
       "datasetPreviewNameToCmdIdMap": {},
       "diffDeletes": [],
       "diffInserts": [],
       "displayType": "redashChart",
       "error": null,
       "errorDetails": null,
       "errorSummary": null,
       "errorTraceType": null,
       "finishTime": 0,
       "globalVars": {},
       "guid": "",
       "height": "auto",
       "hideCommandCode": false,
       "hideCommandResult": false,
       "iPythonMetadata": null,
       "inputWidgets": {},
       "isLockedInExamMode": false,
       "latestUser": "a user",
       "latestUserId": null,
       "listResultMetadata": null,
       "metadata": {
        "byteLimit": 2048000,
        "implicitDf": true,
        "rowLimit": 10000
       },
       "nuid": "b021d18f-0589-4985-a70a-825e9496f544",
       "origId": 0,
       "parentHierarchy": [],
       "pivotAggregation": null,
       "pivotColumns": null,
       "position": 19.0,
       "resultDbfsErrorMessage": null,
       "resultDbfsStatus": "INLINED_IN_TREE",
       "results": null,
       "showCommandTitle": false,
       "startTime": 0,
       "state": "finished",
       "streamStates": {},
       "subcommandOptions": {},
       "submitTime": 0,
       "subtype": "tableResultSubCmd.visualization",
       "tableResultIndex": 0,
       "tableResultSettingsMap": {},
       "useConsistentColors": false,
       "version": "CommandV1",
       "width": "auto",
       "workflows": [],
       "xColumns": null,
       "yColumns": null
      }
     },
     "output_type": "display_data"
    }
   ],
   "source": [
    "%sql\n",
    "SELECT\n",
    "    st.sales_agent,                           \n",
    "    SUM(sp.close_value) AS total_sales_value  \n",
    "FROM\n",
    "    sales_pipeline sp\n",
    "JOIN\n",
    "    sales_teams AS st ON sp.sales_agent = st.sales_agent  \n",
    "GROUP BY\n",
    "    st.sales_agent                            \n",
    "ORDER BY\n",
    "    total_sales_value DESC;                 "
   ]
  },
  {
   "cell_type": "markdown",
   "metadata": {
    "application/vnd.databricks.v1+cell": {
     "cellMetadata": {
      "byteLimit": 2048000,
      "rowLimit": 10000
     },
     "inputWidgets": {},
     "nuid": "b59c76ea-21be-4fdd-b4cb-261f91c641e6",
     "showTitle": false,
     "tableResultSettingsMap": {},
     "title": ""
    }
   },
   "source": [
    "## 4. Qual é o perfil de clientes que geram maior valor de vendas?"
   ]
  },
  {
   "cell_type": "code",
   "execution_count": 0,
   "metadata": {
    "application/vnd.databricks.v1+cell": {
     "cellMetadata": {
      "byteLimit": 2048000,
      "implicitDf": true,
      "rowLimit": 10000
     },
     "inputWidgets": {},
     "nuid": "e0f8f50b-0a70-4092-b28f-cbc25c5511a8",
     "showTitle": false,
     "tableResultSettingsMap": {},
     "title": ""
    }
   },
   "outputs": [
    {
     "output_type": "display_data",
     "data": {
      "text/html": [
       "<style scoped>\n",
       "  .table-result-container {\n",
       "    max-height: 300px;\n",
       "    overflow: auto;\n",
       "  }\n",
       "  table, th, td {\n",
       "    border: 1px solid black;\n",
       "    border-collapse: collapse;\n",
       "  }\n",
       "  th, td {\n",
       "    padding: 5px;\n",
       "  }\n",
       "  th {\n",
       "    text-align: left;\n",
       "  }\n",
       "</style><div class='table-result-container'><table class='table-result'><thead style='background-color: white'><tr><th>account</th><th>sector</th><th>year_established</th><th>total_sales_value</th></tr></thead><tbody><tr><td>Kan-code</td><td>software</td><td>1982</td><td>341455</td></tr><tr><td>Konex</td><td>technolgy</td><td>1980</td><td>269245</td></tr><tr><td>Condax</td><td>medical</td><td>2017</td><td>206410</td></tr><tr><td>Cheers</td><td>entertainment</td><td>1993</td><td>198020</td></tr><tr><td>Hottechi</td><td>technolgy</td><td>1997</td><td>194957</td></tr><tr><td>Goodsilron</td><td>marketing</td><td>2000</td><td>182522</td></tr><tr><td>Treequote</td><td>telecommunications</td><td>1988</td><td>176751</td></tr><tr><td>Warephase</td><td>services</td><td>1997</td><td>170046</td></tr><tr><td>Xx-holding</td><td>finance</td><td>1993</td><td>169357</td></tr><tr><td>Isdom</td><td>medical</td><td>2002</td><td>164683</td></tr><tr><td>Mathtouch</td><td>marketing</td><td>1984</td><td>163339</td></tr><tr><td>Singletechno</td><td>retail</td><td>1996</td><td>163339</td></tr><tr><td>Scotfind</td><td>software</td><td>1996</td><td>162725</td></tr><tr><td>Plussunin</td><td>retail</td><td>2003</td><td>155195</td></tr><tr><td>Umbrella Corporation</td><td>finance</td><td>1998</td><td>152701</td></tr><tr><td>Rangreen</td><td>technolgy</td><td>1987</td><td>151777</td></tr><tr><td>Donquadtech</td><td>technolgy</td><td>1992</td><td>147976</td></tr><tr><td>Plexzap</td><td>retail</td><td>2001</td><td>144976</td></tr><tr><td>Stanredtax</td><td>finance</td><td>1987</td><td>142711</td></tr><tr><td>Inity</td><td>marketing</td><td>1986</td><td>141858</td></tr><tr><td>Codehow</td><td>software</td><td>1998</td><td>140183</td></tr><tr><td>Labdrill</td><td>medical</td><td>1985</td><td>140086</td></tr><tr><td>Zotware</td><td>software</td><td>1979</td><td>138339</td></tr><tr><td>Xx-zobam</td><td>entertainment</td><td>1989</td><td>135346</td></tr><tr><td>Gekko & Co</td><td>retail</td><td>1990</td><td>134731</td></tr><tr><td>Y-corporation</td><td>employment</td><td>1983</td><td>131427</td></tr><tr><td>Dontechi</td><td>software</td><td>1982</td><td>128048</td></tr><tr><td>Finjob</td><td>employment</td><td>1988</td><td>127569</td></tr><tr><td>Funholding</td><td>finance</td><td>1991</td><td>127050</td></tr><tr><td>Fasehatice</td><td>retail</td><td>1990</td><td>127009</td></tr><tr><td>Ron-tech</td><td>medical</td><td>1992</td><td>125481</td></tr><tr><td>Conecom</td><td>technolgy</td><td>2005</td><td>125310</td></tr><tr><td>Ganjaflex</td><td>retail</td><td>1995</td><td>123506</td></tr><tr><td>Lexiqvolax</td><td>medical</td><td>2004</td><td>121418</td></tr><tr><td>Cancity</td><td>retail</td><td>2001</td><td>118627</td></tr><tr><td>Hatfan</td><td>services</td><td>1982</td><td>117942</td></tr><tr><td>Streethex</td><td>retail</td><td>1988</td><td>117463</td></tr><tr><td>Finhigh</td><td>finance</td><td>2006</td><td>117255</td></tr><tr><td>dambase</td><td>marketing</td><td>1995</td><td>116394</td></tr><tr><td>Globex Corporation</td><td>technolgy</td><td>2000</td><td>115712</td></tr><tr><td>Genco Pura Olive Oil Company</td><td>retail</td><td>2007</td><td>114352</td></tr><tr><td>Faxquote</td><td>telecommunications</td><td>1995</td><td>113557</td></tr><tr><td>Vehement Capital Partners</td><td>finance</td><td>1993</td><td>111533</td></tr><tr><td>Rundofase</td><td>technolgy</td><td>1983</td><td>110512</td></tr><tr><td>Ontomedia</td><td>employment</td><td>1997</td><td>110098</td></tr><tr><td>Betatech</td><td>medical</td><td>1986</td><td>107408</td></tr><tr><td>Sunnamplex</td><td>marketing</td><td>2008</td><td>106754</td></tr><tr><td>Groovestreet</td><td>retail</td><td>2003</td><td>106098</td></tr><tr><td>Sonron</td><td>telecommunications</td><td>1999</td><td>103673</td></tr><tr><td>J-Texon</td><td>retail</td><td>1989</td><td>102610</td></tr><tr><td>Acme Corporation</td><td>technolgy</td><td>1996</td><td>101744</td></tr><tr><td>Domzoom</td><td>entertainment</td><td>1998</td><td>99639</td></tr><tr><td>Green-Plus</td><td>services</td><td>2003</td><td>99293</td></tr><tr><td>Betasoloin</td><td>medical</td><td>1999</td><td>97036</td></tr><tr><td>Kinnamplus</td><td>retail</td><td>2004</td><td>95060</td></tr><tr><td>Bioholding</td><td>medical</td><td>2012</td><td>90991</td></tr><tr><td>Massive Dynamic</td><td>entertainment</td><td>1989</td><td>90110</td></tr><tr><td>Initech</td><td>telecommunications</td><td>1994</td><td>89792</td></tr><tr><td>Bubba Gump</td><td>software</td><td>2002</td><td>89248</td></tr><tr><td>Plusstrip</td><td>entertainment</td><td>2002</td><td>89208</td></tr><tr><td>Blackzim</td><td>retail</td><td>2009</td><td>87715</td></tr><tr><td>Zencorporation</td><td>technolgy</td><td>2011</td><td>86690</td></tr><tr><td>Toughzap</td><td>retail</td><td>1995</td><td>85902</td></tr><tr><td>Gogozoom</td><td>telecommunications</td><td>2007</td><td>85047</td></tr><tr><td>Rantouch</td><td>telecommunications</td><td>1994</td><td>84754</td></tr><tr><td>Silis</td><td>medical</td><td>1994</td><td>83816</td></tr><tr><td>Newex</td><td>services</td><td>1991</td><td>82622</td></tr><tr><td>Scottech</td><td>marketing</td><td>2012</td><td>82360</td></tr><tr><td>Doncon</td><td>technolgy</td><td>2010</td><td>82118</td></tr><tr><td>Opentech</td><td>finance</td><td>1994</td><td>78669</td></tr><tr><td>Zumgoity</td><td>medical</td><td>1984</td><td>78237</td></tr><tr><td>Dalttechnology</td><td>software</td><td>2013</td><td>77936</td></tr><tr><td>Zoomit</td><td>entertainment</td><td>1992</td><td>76684</td></tr><tr><td>The New York Inquirer</td><td>medical</td><td>1996</td><td>76636</td></tr><tr><td>Yearin</td><td>retail</td><td>2005</td><td>75424</td></tr><tr><td>Iselectrics</td><td>technolgy</td><td>2011</td><td>72543</td></tr><tr><td>Konmatfix</td><td>marketing</td><td>1985</td><td>72457</td></tr><tr><td>Bioplex</td><td>medical</td><td>1991</td><td>67393</td></tr><tr><td>Statholdings</td><td>employment</td><td>1997</td><td>67080</td></tr><tr><td>Nam-zim</td><td>services</td><td>1987</td><td>63103</td></tr><tr><td>Sumace</td><td>retail</td><td>2000</td><td>59905</td></tr><tr><td>Bluth Company</td><td>technolgy</td><td>1993</td><td>56903</td></tr><tr><td>Donware</td><td>marketing</td><td>1999</td><td>56637</td></tr><tr><td>Zathunicon</td><td>retail</td><td>2010</td><td>55616</td></tr><tr><td>Golddex</td><td>finance</td><td>2008</td><td>51632</td></tr></tbody></table></div>"
      ]
     },
     "metadata": {
      "application/vnd.databricks.v1+output": {
       "addedWidgets": {},
       "aggData": [],
       "aggError": "",
       "aggOverflow": false,
       "aggSchema": [],
       "aggSeriesLimitReached": false,
       "aggType": "",
       "arguments": {},
       "columnCustomDisplayInfos": {},
       "data": [
        [
         "Kan-code",
         "software",
         1982,
         341455
        ],
        [
         "Konex",
         "technolgy",
         1980,
         269245
        ],
        [
         "Condax",
         "medical",
         2017,
         206410
        ],
        [
         "Cheers",
         "entertainment",
         1993,
         198020
        ],
        [
         "Hottechi",
         "technolgy",
         1997,
         194957
        ],
        [
         "Goodsilron",
         "marketing",
         2000,
         182522
        ],
        [
         "Treequote",
         "telecommunications",
         1988,
         176751
        ],
        [
         "Warephase",
         "services",
         1997,
         170046
        ],
        [
         "Xx-holding",
         "finance",
         1993,
         169357
        ],
        [
         "Isdom",
         "medical",
         2002,
         164683
        ],
        [
         "Mathtouch",
         "marketing",
         1984,
         163339
        ],
        [
         "Singletechno",
         "retail",
         1996,
         163339
        ],
        [
         "Scotfind",
         "software",
         1996,
         162725
        ],
        [
         "Plussunin",
         "retail",
         2003,
         155195
        ],
        [
         "Umbrella Corporation",
         "finance",
         1998,
         152701
        ],
        [
         "Rangreen",
         "technolgy",
         1987,
         151777
        ],
        [
         "Donquadtech",
         "technolgy",
         1992,
         147976
        ],
        [
         "Plexzap",
         "retail",
         2001,
         144976
        ],
        [
         "Stanredtax",
         "finance",
         1987,
         142711
        ],
        [
         "Inity",
         "marketing",
         1986,
         141858
        ],
        [
         "Codehow",
         "software",
         1998,
         140183
        ],
        [
         "Labdrill",
         "medical",
         1985,
         140086
        ],
        [
         "Zotware",
         "software",
         1979,
         138339
        ],
        [
         "Xx-zobam",
         "entertainment",
         1989,
         135346
        ],
        [
         "Gekko & Co",
         "retail",
         1990,
         134731
        ],
        [
         "Y-corporation",
         "employment",
         1983,
         131427
        ],
        [
         "Dontechi",
         "software",
         1982,
         128048
        ],
        [
         "Finjob",
         "employment",
         1988,
         127569
        ],
        [
         "Funholding",
         "finance",
         1991,
         127050
        ],
        [
         "Fasehatice",
         "retail",
         1990,
         127009
        ],
        [
         "Ron-tech",
         "medical",
         1992,
         125481
        ],
        [
         "Conecom",
         "technolgy",
         2005,
         125310
        ],
        [
         "Ganjaflex",
         "retail",
         1995,
         123506
        ],
        [
         "Lexiqvolax",
         "medical",
         2004,
         121418
        ],
        [
         "Cancity",
         "retail",
         2001,
         118627
        ],
        [
         "Hatfan",
         "services",
         1982,
         117942
        ],
        [
         "Streethex",
         "retail",
         1988,
         117463
        ],
        [
         "Finhigh",
         "finance",
         2006,
         117255
        ],
        [
         "dambase",
         "marketing",
         1995,
         116394
        ],
        [
         "Globex Corporation",
         "technolgy",
         2000,
         115712
        ],
        [
         "Genco Pura Olive Oil Company",
         "retail",
         2007,
         114352
        ],
        [
         "Faxquote",
         "telecommunications",
         1995,
         113557
        ],
        [
         "Vehement Capital Partners",
         "finance",
         1993,
         111533
        ],
        [
         "Rundofase",
         "technolgy",
         1983,
         110512
        ],
        [
         "Ontomedia",
         "employment",
         1997,
         110098
        ],
        [
         "Betatech",
         "medical",
         1986,
         107408
        ],
        [
         "Sunnamplex",
         "marketing",
         2008,
         106754
        ],
        [
         "Groovestreet",
         "retail",
         2003,
         106098
        ],
        [
         "Sonron",
         "telecommunications",
         1999,
         103673
        ],
        [
         "J-Texon",
         "retail",
         1989,
         102610
        ],
        [
         "Acme Corporation",
         "technolgy",
         1996,
         101744
        ],
        [
         "Domzoom",
         "entertainment",
         1998,
         99639
        ],
        [
         "Green-Plus",
         "services",
         2003,
         99293
        ],
        [
         "Betasoloin",
         "medical",
         1999,
         97036
        ],
        [
         "Kinnamplus",
         "retail",
         2004,
         95060
        ],
        [
         "Bioholding",
         "medical",
         2012,
         90991
        ],
        [
         "Massive Dynamic",
         "entertainment",
         1989,
         90110
        ],
        [
         "Initech",
         "telecommunications",
         1994,
         89792
        ],
        [
         "Bubba Gump",
         "software",
         2002,
         89248
        ],
        [
         "Plusstrip",
         "entertainment",
         2002,
         89208
        ],
        [
         "Blackzim",
         "retail",
         2009,
         87715
        ],
        [
         "Zencorporation",
         "technolgy",
         2011,
         86690
        ],
        [
         "Toughzap",
         "retail",
         1995,
         85902
        ],
        [
         "Gogozoom",
         "telecommunications",
         2007,
         85047
        ],
        [
         "Rantouch",
         "telecommunications",
         1994,
         84754
        ],
        [
         "Silis",
         "medical",
         1994,
         83816
        ],
        [
         "Newex",
         "services",
         1991,
         82622
        ],
        [
         "Scottech",
         "marketing",
         2012,
         82360
        ],
        [
         "Doncon",
         "technolgy",
         2010,
         82118
        ],
        [
         "Opentech",
         "finance",
         1994,
         78669
        ],
        [
         "Zumgoity",
         "medical",
         1984,
         78237
        ],
        [
         "Dalttechnology",
         "software",
         2013,
         77936
        ],
        [
         "Zoomit",
         "entertainment",
         1992,
         76684
        ],
        [
         "The New York Inquirer",
         "medical",
         1996,
         76636
        ],
        [
         "Yearin",
         "retail",
         2005,
         75424
        ],
        [
         "Iselectrics",
         "technolgy",
         2011,
         72543
        ],
        [
         "Konmatfix",
         "marketing",
         1985,
         72457
        ],
        [
         "Bioplex",
         "medical",
         1991,
         67393
        ],
        [
         "Statholdings",
         "employment",
         1997,
         67080
        ],
        [
         "Nam-zim",
         "services",
         1987,
         63103
        ],
        [
         "Sumace",
         "retail",
         2000,
         59905
        ],
        [
         "Bluth Company",
         "technolgy",
         1993,
         56903
        ],
        [
         "Donware",
         "marketing",
         1999,
         56637
        ],
        [
         "Zathunicon",
         "retail",
         2010,
         55616
        ],
        [
         "Golddex",
         "finance",
         2008,
         51632
        ]
       ],
       "datasetInfos": [],
       "dbfsResultPath": null,
       "isJsonSchema": true,
       "metadata": {},
       "overflow": false,
       "plotOptions": {
        "customPlotOptions": {},
        "displayType": "table",
        "pivotAggregation": null,
        "pivotColumns": null,
        "xColumns": null,
        "yColumns": null
       },
       "removedWidgets": [],
       "schema": [
        {
         "metadata": "{}",
         "name": "account",
         "type": "\"string\""
        },
        {
         "metadata": "{}",
         "name": "sector",
         "type": "\"string\""
        },
        {
         "metadata": "{}",
         "name": "year_established",
         "type": "\"integer\""
        },
        {
         "metadata": "{}",
         "name": "total_sales_value",
         "type": "\"long\""
        }
       ],
       "type": "table"
      }
     },
     "output_type": "display_data"
    },
    {
     "output_type": "display_data",
     "data": {
      "text/plain": [
       "Databricks visualization. Run in Databricks to view."
      ]
     },
     "metadata": {
      "application/vnd.databricks.v1.subcommand+json": {
       "baseErrorDetails": null,
       "bindings": {},
       "collapsed": false,
       "command": "%sql WITH q AS (SELECT \n    a.account, \n    a.sector, \n    a.year_established, \n    SUM(sp.close_value) AS total_sales_value\nFROM \n    accounts a\nJOIN \n    sales_pipeline sp ON a.account = sp.account\nGROUP BY \n    a.account, a.sector, a.year_established\nORDER BY \n    total_sales_value DESC) SELECT `sector`,SUM(`total_sales_value`) `column_d460e97e43` FROM q GROUP BY `sector`",
       "commandTitle": "Visualização 1",
       "commandType": "auto",
       "commandVersion": 0,
       "commentThread": [],
       "commentsVisible": false,
       "contentSha256Hex": null,
       "customPlotOptions": {
        "redashChart": [
         {
          "key": "type",
          "value": "CHART"
         },
         {
          "key": "options",
          "value": {
           "alignYAxesAtZero": true,
           "coefficient": 1,
           "columnConfigurationMap": {
            "x": {
             "column": "sector",
             "id": "column_d460e97e41"
            },
            "y": [
             {
              "column": "total_sales_value",
              "id": "column_d460e97e43",
              "transform": "SUM"
             }
            ]
           },
           "dateTimeFormat": "DD/MM/YYYY HH:mm",
           "direction": {
            "type": "counterclockwise"
           },
           "error_y": {
            "type": "data",
            "visible": true
           },
           "globalSeriesType": "column",
           "hideXAxis": false,
           "hideYAxes": false,
           "isAggregationOn": true,
           "legend": {
            "traceorder": "normal"
           },
           "missingValuesAsZero": true,
           "numberFormat": "0,0.[00000]",
           "percentFormat": "0[.]00%",
           "reverseX": false,
           "series": {
            "error_y": {
             "type": "data",
             "visible": true
            },
            "percentValues": false,
            "stacking": ""
           },
           "seriesOptions": {
            "column_d460e97e43": {
             "color": "#E92828",
             "name": "",
             "type": "column",
             "yAxis": 0
            }
           },
           "showDataLabels": false,
           "sizemode": "diameter",
           "sortX": true,
           "sortY": true,
           "swappedAxes": true,
           "textFormat": "",
           "useAggregationsUi": true,
           "valuesOptions": {},
           "version": 2,
           "xAxis": {
            "labels": {
             "enabled": true
            },
            "title": {
             "text": "Perfil de Clientes com Maior Valor de Vendas"
            },
            "type": "-"
           },
           "yAxis": [
            {
             "title": {
              "text": "Valor Total de Vendas"
             },
             "type": "-"
            },
            {
             "opposite": true,
             "title": {
              "text": null
             },
             "type": "-"
            }
           ]
          }
         }
        ]
       },
       "datasetPreviewNameToCmdIdMap": {},
       "diffDeletes": [],
       "diffInserts": [],
       "displayType": "redashChart",
       "error": null,
       "errorDetails": null,
       "errorSummary": null,
       "errorTraceType": null,
       "finishTime": 0,
       "globalVars": {},
       "guid": "",
       "height": "auto",
       "hideCommandCode": false,
       "hideCommandResult": false,
       "iPythonMetadata": null,
       "inputWidgets": {},
       "isLockedInExamMode": false,
       "latestUser": "a user",
       "latestUserId": null,
       "listResultMetadata": null,
       "metadata": {
        "byteLimit": 2048000,
        "implicitDf": true,
        "rowLimit": 10000
       },
       "nuid": "605cffc3-336c-4576-be80-d34ee903a9e5",
       "origId": 0,
       "parentHierarchy": [],
       "pivotAggregation": null,
       "pivotColumns": null,
       "position": 27.0,
       "resultDbfsErrorMessage": null,
       "resultDbfsStatus": "INLINED_IN_TREE",
       "results": null,
       "showCommandTitle": false,
       "startTime": 0,
       "state": "finished",
       "streamStates": {},
       "subcommandOptions": {
        "queryPlan": {
         "groups": [
          {
           "column": "sector",
           "type": "column"
          }
         ],
         "selects": [
          {
           "column": "sector",
           "type": "column"
          },
          {
           "alias": "column_d460e97e43",
           "args": [
            {
             "column": "total_sales_value",
             "type": "column"
            }
           ],
           "function": "SUM",
           "type": "function"
          }
         ]
        }
       },
       "submitTime": 0,
       "subtype": "tableResultSubCmd.visualization",
       "tableResultIndex": 0,
       "tableResultSettingsMap": {},
       "useConsistentColors": false,
       "version": "CommandV1",
       "width": "auto",
       "workflows": [],
       "xColumns": null,
       "yColumns": null
      }
     },
     "output_type": "display_data"
    }
   ],
   "source": [
    "%sql\n",
    "SELECT \n",
    "    a.account, \n",
    "    a.sector, \n",
    "    a.year_established, \n",
    "    SUM(sp.close_value) AS total_sales_value\n",
    "FROM \n",
    "    accounts a\n",
    "JOIN \n",
    "    sales_pipeline sp ON a.account = sp.account\n",
    "GROUP BY \n",
    "    a.account, a.sector, a.year_established\n",
    "ORDER BY \n",
    "    total_sales_value DESC"
   ]
  },
  {
   "cell_type": "markdown",
   "metadata": {
    "application/vnd.databricks.v1+cell": {
     "cellMetadata": {
      "byteLimit": 2048000,
      "rowLimit": 10000
     },
     "inputWidgets": {},
     "nuid": "84f54b36-27a9-484d-bc4e-02fe75809d3d",
     "showTitle": false,
     "tableResultSettingsMap": {},
     "title": ""
    }
   },
   "source": [
    "## 5. Quais são os gargalos no pipeline de vendas e como podemos melhorar o processo"
   ]
  },
  {
   "cell_type": "code",
   "execution_count": 0,
   "metadata": {
    "application/vnd.databricks.v1+cell": {
     "cellMetadata": {
      "byteLimit": 2048000,
      "implicitDf": true,
      "rowLimit": 10000
     },
     "inputWidgets": {},
     "nuid": "ebc6db91-2348-4460-a645-afd60c6d2aa1",
     "showTitle": false,
     "tableResultSettingsMap": {},
     "title": ""
    }
   },
   "outputs": [
    {
     "output_type": "display_data",
     "data": {
      "text/html": [
       "<style scoped>\n",
       "  .table-result-container {\n",
       "    max-height: 300px;\n",
       "    overflow: auto;\n",
       "  }\n",
       "  table, th, td {\n",
       "    border: 1px solid black;\n",
       "    border-collapse: collapse;\n",
       "  }\n",
       "  th, td {\n",
       "    padding: 5px;\n",
       "  }\n",
       "  th {\n",
       "    text-align: left;\n",
       "  }\n",
       "</style><div class='table-result-container'><table class='table-result'><thead style='background-color: white'><tr><th>deal_stage</th><th>stage_opportunity_count</th></tr></thead><tbody><tr><td>Won</td><td>4238</td></tr><tr><td>Lost</td><td>2473</td></tr><tr><td>Engaging</td><td>1589</td></tr><tr><td>Prospecting</td><td>500</td></tr></tbody></table></div>"
      ]
     },
     "metadata": {
      "application/vnd.databricks.v1+output": {
       "addedWidgets": {},
       "aggData": [],
       "aggError": "",
       "aggOverflow": false,
       "aggSchema": [],
       "aggSeriesLimitReached": false,
       "aggType": "",
       "arguments": {},
       "columnCustomDisplayInfos": {},
       "data": [
        [
         "Won",
         4238
        ],
        [
         "Lost",
         2473
        ],
        [
         "Engaging",
         1589
        ],
        [
         "Prospecting",
         500
        ]
       ],
       "datasetInfos": [],
       "dbfsResultPath": null,
       "isJsonSchema": true,
       "metadata": {},
       "overflow": false,
       "plotOptions": {
        "customPlotOptions": {},
        "displayType": "table",
        "pivotAggregation": null,
        "pivotColumns": null,
        "xColumns": null,
        "yColumns": null
       },
       "removedWidgets": [],
       "schema": [
        {
         "metadata": "{}",
         "name": "deal_stage",
         "type": "\"string\""
        },
        {
         "metadata": "{}",
         "name": "stage_opportunity_count",
         "type": "\"long\""
        }
       ],
       "type": "table"
      }
     },
     "output_type": "display_data"
    },
    {
     "output_type": "display_data",
     "data": {
      "text/plain": [
       "Databricks visualization. Run in Databricks to view."
      ]
     },
     "metadata": {
      "application/vnd.databricks.v1.subcommand+json": {
       "baseErrorDetails": null,
       "bindings": {},
       "collapsed": false,
       "command": "%sql WITH q AS (SELECT \n    sp.deal_stage, \n    COUNT(sp.opportunity_id) AS stage_opportunity_count\nFROM \n    sales_pipeline sp\nGROUP BY \n    sp.deal_stage\nORDER BY \n    stage_opportunity_count DESC) SELECT `deal_stage`,SUM(`stage_opportunity_count`) `column_d460e97e48` FROM q GROUP BY `deal_stage`",
       "commandTitle": "Visualização 1",
       "commandType": "auto",
       "commandVersion": 0,
       "commentThread": [],
       "commentsVisible": false,
       "contentSha256Hex": null,
       "customPlotOptions": {
        "redashChart": [
         {
          "key": "type",
          "value": "CHART"
         },
         {
          "key": "options",
          "value": {
           "alignYAxesAtZero": true,
           "coefficient": 1,
           "columnConfigurationMap": {
            "x": {
             "column": "deal_stage",
             "id": "column_d460e97e47"
            },
            "y": [
             {
              "column": "stage_opportunity_count",
              "id": "column_d460e97e48",
              "transform": "SUM"
             }
            ]
           },
           "dateTimeFormat": "DD/MM/YYYY HH:mm",
           "direction": {
            "type": "counterclockwise"
           },
           "error_y": {
            "type": "data",
            "visible": true
           },
           "globalSeriesType": "pie",
           "isAggregationOn": true,
           "legend": {
            "traceorder": "normal"
           },
           "missingValuesAsZero": true,
           "numberFormat": "0,0.[00000]",
           "percentFormat": "0[.]00%",
           "series": {
            "error_y": {
             "type": "data",
             "visible": true
            },
            "stacking": null
           },
           "seriesOptions": {
            "column_d460e97e48": {
             "name": "Pontos Críticos no Pipeline de Vendas",
             "type": "pie",
             "yAxis": 0
            }
           },
           "showDataLabels": true,
           "sizemode": "diameter",
           "sortX": true,
           "sortY": true,
           "swappedAxes": false,
           "textFormat": "",
           "useAggregationsUi": true,
           "valuesOptions": {
            "Engaging": {
             "color": "#A55F2A"
            },
            "Prospecting": {
             "color": "#049235"
            },
            "Won": {
             "color": "#002FB4"
            }
           },
           "version": 2,
           "xAxis": {
            "labels": {
             "enabled": true
            },
            "type": "-"
           },
           "yAxis": [
            {
             "type": "-"
            },
            {
             "opposite": true,
             "type": "-"
            }
           ]
          }
         }
        ]
       },
       "datasetPreviewNameToCmdIdMap": {},
       "diffDeletes": [],
       "diffInserts": [],
       "displayType": "redashChart",
       "error": null,
       "errorDetails": null,
       "errorSummary": null,
       "errorTraceType": null,
       "finishTime": 0,
       "globalVars": {},
       "guid": "",
       "height": "auto",
       "hideCommandCode": false,
       "hideCommandResult": false,
       "iPythonMetadata": null,
       "inputWidgets": {},
       "isLockedInExamMode": false,
       "latestUser": "a user",
       "latestUserId": null,
       "listResultMetadata": null,
       "metadata": {
        "byteLimit": 2048000,
        "implicitDf": true,
        "rowLimit": 10000
       },
       "nuid": "7e33307a-8d65-48d2-a38e-07eba814c6ce",
       "origId": 0,
       "parentHierarchy": [],
       "pivotAggregation": null,
       "pivotColumns": null,
       "position": 29.0,
       "resultDbfsErrorMessage": null,
       "resultDbfsStatus": "INLINED_IN_TREE",
       "results": null,
       "showCommandTitle": false,
       "startTime": 0,
       "state": "finished",
       "streamStates": {},
       "subcommandOptions": {
        "queryPlan": {
         "groups": [
          {
           "column": "deal_stage",
           "type": "column"
          }
         ],
         "selects": [
          {
           "column": "deal_stage",
           "type": "column"
          },
          {
           "alias": "column_d460e97e48",
           "args": [
            {
             "column": "stage_opportunity_count",
             "type": "column"
            }
           ],
           "function": "SUM",
           "type": "function"
          }
         ]
        }
       },
       "submitTime": 0,
       "subtype": "tableResultSubCmd.visualization",
       "tableResultIndex": 0,
       "tableResultSettingsMap": {},
       "useConsistentColors": false,
       "version": "CommandV1",
       "width": "auto",
       "workflows": [],
       "xColumns": null,
       "yColumns": null
      }
     },
     "output_type": "display_data"
    }
   ],
   "source": [
    "%sql\n",
    "SELECT \n",
    "    sp.deal_stage, \n",
    "    COUNT(sp.opportunity_id) AS stage_opportunity_count\n",
    "FROM \n",
    "    sales_pipeline sp\n",
    "GROUP BY \n",
    "    sp.deal_stage\n",
    "ORDER BY \n",
    "    stage_opportunity_count DESC"
   ]
  }
 ],
 "metadata": {
  "application/vnd.databricks.v1+notebook": {
   "computePreferences": null,
   "dashboards": [
    {
     "elements": [
      {
       "dashboardResultIndex": null,
       "elementNUID": "c467e6c0-7d97-46a6-b56a-1a028381eac4",
       "elementType": "command",
       "guid": "7eb7fcff-ba5a-41df-b9c5-864164a7f6a1",
       "options": null,
       "position": {
        "height": 9,
        "width": 24,
        "x": 0,
        "y": 15,
        "z": null
       },
       "resultIndex": null
      },
      {
       "dashboardResultIndex": null,
       "elementNUID": "b021d18f-0589-4985-a70a-825e9496f544",
       "elementType": "command",
       "guid": "af63095c-6669-4aba-9c45-fc78c7893e81",
       "options": null,
       "position": {
        "height": 7,
        "width": 12,
        "x": 0,
        "y": 0,
        "z": null
       },
       "resultIndex": null
      },
      {
       "dashboardResultIndex": null,
       "elementNUID": "451b4c18-5149-4d9a-8c64-ae6c139567be",
       "elementType": "command",
       "guid": "cba5a1a4-1757-4c3f-9dc3-8a1e4912d5b0",
       "options": null,
       "position": {
        "height": 8,
        "width": 12,
        "x": 0,
        "y": 7,
        "z": null
       },
       "resultIndex": null
      },
      {
       "dashboardResultIndex": null,
       "elementNUID": "605cffc3-336c-4576-be80-d34ee903a9e5",
       "elementType": "command",
       "guid": "cc79200b-0b3d-4046-8e2b-457efe6e6f38",
       "options": null,
       "position": {
        "height": 8,
        "width": 12,
        "x": 12,
        "y": 7,
        "z": null
       },
       "resultIndex": null
      },
      {
       "dashboardResultIndex": null,
       "elementNUID": "7e33307a-8d65-48d2-a38e-07eba814c6ce",
       "elementType": "command",
       "guid": "f21727e1-4025-435f-a1dc-b99b6b3abc82",
       "options": null,
       "position": {
        "height": 7,
        "width": 12,
        "x": 12,
        "y": 0,
        "z": null
       },
       "resultIndex": null
      }
     ],
     "globalVars": {},
     "guid": "",
     "layoutOption": {
      "grid": true,
      "stack": true
     },
     "nuid": "55c4aa58-5fa4-4ffb-8523-53b5c56bdf83",
     "origId": 4397031119104536,
     "title": "Dashboard de Gestão de Relacionamento co",
     "version": "DashboardViewV1",
     "width": 1024
    }
   ],
   "environmentMetadata": {
    "base_environment": "",
    "client": "1"
   },
   "language": "python",
   "notebookMetadata": {
    "mostRecentlyExecutedCommandWithImplicitDF": {
     "commandId": 4397031119104534,
     "dataframes": [
      "_sqldf"
     ]
    },
    "pythonIndentUnit": 4
   },
   "notebookName": "Análise CRM",
   "widgets": {}
  }
 },
 "nbformat": 4,
 "nbformat_minor": 0
}
